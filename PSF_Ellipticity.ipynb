{
 "cells": [
  {
   "cell_type": "markdown",
   "metadata": {},
   "source": [
    "# Single Image PSF Ellipticity \n",
    "\n",
    "A notebook to work to understand OSS-REQ-0233,\n",
    "OSS (Observing System Specifications) https://docushare.lsst.org/docushare/dsweb/Get/LSE-30"
   ]
  },
  {
   "cell_type": "markdown",
   "metadata": {},
   "source": [
    "## Definitions"
   ]
  },
  {
   "cell_type": "markdown",
   "metadata": {},
   "source": [
    "**Specification**: The Point spread function ellipticity of bright isolated unresolved sources in images from a\n",
    "single r-band or i-band visit shall have the properties specified in the table imageEllipticity below.\n",
    "**Discussion**: These specifications apply to single isolated unresolved sources as delivered to and recorded\n",
    "by the LSST imaging system."
   ]
  },
  {
   "cell_type": "markdown",
   "metadata": {},
   "source": [
    "| Description | Value   | Unit   | Name   |\n",
    "|------|------|------|------|\n",
    "|The maximum PSF raw ellipticity limit.  | 0.07 | unitless | SE2 |\n",
    "|The maximum residual ellipticity correlation amplitude over 1 arcmin scales.  | 2.0e-4 | unitless | SE3 |\n",
    "|The maximum median raw PSF ellipticity over the full field of view in a single 15 second exposure for bright isolated nonsaturated stars.  | 0.04| unitless | SE1 |\n",
    "|The fraction of PSF ellipticity measurements allowed to exceed the ellipticity outlier limit for bright isolated non-saturated stars.  | 5 | percent | EF1|\n",
    "|The maximum median residual ellipticity amplitude outlier limit on scales between 1 and 5 arcmin.  | 1.0e-6 | unitless | SE6 |\n",
    "|The maximum residual ellipticity correlation amplitude over 5 arcmin scales.| 5.0e-7 | unitless | SE4 |\n",
    "|The maximum median residual ellipticity amplitude outlier limit on scales less than or equal to 1 arcmin.| 4.0e-4 | unitless | SE5 |\n",
    "|Fraction of allowed PSF measurements of isolated bright stars to exceed the ellipticity residual correlation amplitude outlier limit.| 10| percent | EF2 |"
   ]
  },
  {
   "cell_type": "markdown",
   "metadata": {},
   "source": [
    "### PSF Ellipticity\n",
    "\n",
    "**IMPORTANT:** Two conventions are commonly used in weak gravitational lensing to define ellipticity. The LSST Stack uses the \n",
    "\"distortion\" convention as oppose to the \"shear\" convention. See https://en.wikipedia.org/wiki/Gravitational_lensing_formalism#Measures_of_ellipticity for both definitions.\n",
    "\n",
    "The Science Requirements Document (https://docushare.lsst.org/docushare/dsweb/Get/LPM-17) uses the distortion convention.\n",
    "\n",
    "Adaptive second moments:\n",
    "\n",
    "$Q = \\begin{bmatrix}\n",
    "    I_{xx} & I_{xy} \\\\\n",
    "    I_{xy} & I_{yy}\n",
    "  \\end{bmatrix}$\n",
    "\n",
    "In case we need the size:\n",
    "The trace radius is defined as $\\rm{Tr}(Q) = \\sqrt{\\frac{I_{xx} + I_{yy}}{2}}$ and determinant radius is defined as $\\rm{Det(Q)} = (I_{xx} I_{yy} - I_{xy}I_{xy})^\\frac{1}{4}$\n",
    "\n",
    "Formalism ellipticities in the distortion convention:\n",
    "\n",
    "$e_1 = \\frac{I_{xx} - I_{yy}}{I_{xx} + I_{yy}}$\n",
    "\n",
    "$e_2 = \\frac{2 I_{xy}}{I_{xx} + I_{yy}}$\n",
    "\n",
    "$\\tan(2 \\theta) = \\frac{2 I_{xy}}{I_{xx} - I_{yy}} $\n",
    "\n",
    "$e = \\sqrt{e_1^2 + e_2^2}$"
   ]
  },
  {
   "cell_type": "markdown",
   "metadata": {},
   "source": [
    "###  Bright isolated unresolved sources"
   ]
  },
  {
   "cell_type": "code",
   "execution_count": 6,
   "metadata": {},
   "outputs": [],
   "source": [
    "#Insert - what exactly is the definition of this? Not in SRD."
   ]
  },
  {
   "cell_type": "markdown",
   "metadata": {},
   "source": [
    "## Loading Data\n",
    "\n",
    "Using run 1.1p as an example."
   ]
  },
  {
   "cell_type": "code",
   "execution_count": 39,
   "metadata": {},
   "outputs": [],
   "source": [
    "%matplotlib inline\n",
    "import numpy as np\n",
    "import matplotlib.pyplot as plt\n",
    "import pandas as pd"
   ]
  },
  {
   "cell_type": "code",
   "execution_count": 1,
   "metadata": {},
   "outputs": [],
   "source": [
    "import GCRCatalogs\n",
    "from GCR import GCRQuery\n",
    "# Load the coadd catalog\n",
    "catalog = GCRCatalogs.load_catalog('dc2_coadd_run1.1p')"
   ]
  },
  {
   "cell_type": "code",
   "execution_count": 16,
   "metadata": {},
   "outputs": [],
   "source": [
    "#Will need to adjust these cuts.\n",
    "\n",
    "filters=[\n",
    "         GCRQuery('extendedness == 0'),\n",
    "         GCRQuery('clean'), \n",
    "         GCRQuery('blendedness < 10**(-0.375)'),\n",
    "        ~GCRQuery('I_flag'),\n",
    "         GCRQuery('i_SNR > 21')\n",
    "]"
   ]
  },
  {
   "cell_type": "code",
   "execution_count": 17,
   "metadata": {},
   "outputs": [],
   "source": [
    "# Here is a template to fill for g1\n",
    "e1_modif = lambda ixx,iyy,ixy: (ixx-iyy)/(ixx+iyy)\n",
    "e2_modif = lambda ixx,iyy,ixy:  2.*ixy/(ixx+iyy)\n",
    "sigma_modif = lambda ixx,iyy,ixy: (ixx*iyy - ixy**2)**0.25\n",
    "e1_err = lambda e1: .1*e1\n",
    "e2_err = lambda e2: .1*e2\n",
    "e_modif = lambda e1,e2: np.sqrt(e1**2+e2**2)"
   ]
  },
  {
   "cell_type": "code",
   "execution_count": 11,
   "metadata": {},
   "outputs": [],
   "source": [
    "catalog.add_derived_quantity('e1', e1_modif, 'Ixx', 'Iyy', 'Ixy')\n",
    "catalog.add_derived_quantity('e2', e2_modif, 'Ixx', 'Iyy', 'Ixy')\n",
    "catalog.add_derived_quantity('sigma', sigma_modif, 'Ixx', 'Iyy', 'Ixy')"
   ]
  },
  {
   "cell_type": "code",
   "execution_count": 13,
   "metadata": {},
   "outputs": [],
   "source": [
    "catalog.add_derived_quantity('psf_e1', e1_modif, 'IxxPSF', 'IyyPSF', 'IxyPSF')\n",
    "catalog.add_derived_quantity('psf_e2', e2_modif, 'IxxPSF', 'IyyPSF', 'IxyPSF')\n",
    "catalog.add_derived_quantity('psf_sigma', sigma_modif, 'IxxPSF', 'IyyPSF', 'IxyPSF')"
   ]
  },
  {
   "cell_type": "code",
   "execution_count": 14,
   "metadata": {},
   "outputs": [],
   "source": [
    "catalog.add_derived_quantity('e1_err', e1_err, 'e1')\n",
    "catalog.add_derived_quantity('e2_err', e2_err, 'e2')"
   ]
  },
  {
   "cell_type": "code",
   "execution_count": 25,
   "metadata": {},
   "outputs": [],
   "source": [
    "#Todo, add error on e\n",
    "catalog.add_derived_quantity('e', e_modif, 'e1','e2')"
   ]
  },
  {
   "cell_type": "code",
   "execution_count": 58,
   "metadata": {},
   "outputs": [],
   "source": [
    "#Todo, add error on psf_e\n",
    "catalog.add_derived_quantity('psf_e', e_modif, 'psf_e1','psf_e2')"
   ]
  },
  {
   "cell_type": "code",
   "execution_count": 59,
   "metadata": {},
   "outputs": [],
   "source": [
    "quantities = ['ra', 'dec', \n",
    "              'mag_i', 'i_SNR', 'psf_fwhm_i',\n",
    "              'e1', 'e2', 'sigma',\n",
    "              'psf_e1', 'psf_e2', 'psf_sigma','IxxPSF','IyyPSF','Ixx','Iyy','x','y','e1_err','e2_err','e','psf_e']\n",
    "\n",
    "# Would be hidden\n",
    "data = catalog.get_quantities(quantities, \n",
    "                              native_filters=[(lambda x: x==4850, 'tract')],\n",
    "                              filters=filters)"
   ]
  },
  {
   "cell_type": "code",
   "execution_count": 60,
   "metadata": {},
   "outputs": [],
   "source": [
    "# Make data a pandas dataframe\n",
    "\n",
    "data = pd.DataFrame(data)"
   ]
  },
  {
   "cell_type": "markdown",
   "metadata": {},
   "source": [
    "## Checking Requirement Table "
   ]
  },
  {
   "cell_type": "markdown",
   "metadata": {},
   "source": [
    "### Maximum PSF raw ellipticity limit.\n",
    "\n",
    "0.07 (unitless)\n",
    "\n",
    "0.04 median\n",
    "\n",
    "Additionally,\n",
    "\n",
    "The fraction of PSF ellipticity measurements allowed to exceed the ellipticity outlier limit for bright isolated non-saturated stars is 5%."
   ]
  },
  {
   "cell_type": "code",
   "execution_count": 61,
   "metadata": {},
   "outputs": [
    {
     "data": {
      "text/plain": [
       "count    27393.000000\n",
       "mean         0.023327\n",
       "std          0.013122\n",
       "min          0.000220\n",
       "25%          0.013888\n",
       "50%          0.022354\n",
       "75%          0.030624\n",
       "max          0.150354\n",
       "Name: psf_e, dtype: float64"
      ]
     },
     "execution_count": 61,
     "metadata": {},
     "output_type": "execute_result"
    }
   ],
   "source": [
    "data['psf_e'].describe()"
   ]
  },
  {
   "cell_type": "code",
   "execution_count": 91,
   "metadata": {},
   "outputs": [
    {
     "name": "stdout",
     "output_type": "stream",
     "text": [
      "The percentage of objects above the limit is 0.6826561530317964\n"
     ]
    }
   ],
   "source": [
    "print('The percentage of objects above the limit is',(len(data['psf_e'][data['psf_e']>0.07])/len(data['psf_e']))*100)"
   ]
  },
  {
   "cell_type": "code",
   "execution_count": 94,
   "metadata": {},
   "outputs": [
    {
     "name": "stdout",
     "output_type": "stream",
     "text": [
      "The median is 0.0223537097918 this is below the requirement of 0.04.\n"
     ]
    }
   ],
   "source": [
    "print('The median is', np.median(data['psf_e']), 'this is below the requirement of 0.04.')"
   ]
  },
  {
   "cell_type": "code",
   "execution_count": 90,
   "metadata": {},
   "outputs": [
    {
     "data": {
      "text/plain": [
       "<matplotlib.text.Text at 0x2b33928316a0>"
      ]
     },
     "execution_count": 90,
     "metadata": {},
     "output_type": "execute_result"
    },
    {
     "data": {
      "image/png": "[encoded data removed]",
      "text/plain": [
       "<matplotlib.figure.Figure at 0x2b33920f6240>"
      ]
     },
     "metadata": {},
     "output_type": "display_data"
    }
   ],
   "source": [
    "plt.hist(data['psf_e'],bins=50,alpha=0.5,\n",
    "                histtype='stepfilled', color='steelblue',\n",
    "                edgecolor=None)\n",
    "plt.xlabel('PSF ellipticity')\n",
    "plt.axvline(x=0.07)\n",
    "plt.ylabel('Number of Objects')\n",
    "plt.title('PSF Raw Ellipticity')"
   ]
  },
  {
   "cell_type": "markdown",
   "metadata": {},
   "source": [
    "### The maximum residual ellipticity correlation. amplitude over 1 arcmin scales.\n",
    "\n",
    "Amplitude:\n",
    "Over 1 arcmin scale: 2.0e-4\n",
    "Over 5 arcmin sclae: 5.0e-7"
   ]
  },
  {
   "cell_type": "code",
   "execution_count": 66,
   "metadata": {},
   "outputs": [],
   "source": [
    "import treecorr\n",
    "import astropy.units as u"
   ]
  },
  {
   "cell_type": "code",
   "execution_count": 67,
   "metadata": {},
   "outputs": [],
   "source": [
    "#Plot the residual ellipticity correlation \n",
    "\n",
    "nbins=20\n",
    "min_sep=0.25\n",
    "max_sep=20\n",
    "sep_units='arcmin'\n",
    "verbose=False\n",
    "\n",
    "catTree = treecorr.Catalog(ra=data['ra'], dec=data['dec'], \n",
    "                           g1=data['e1']-data['psf_e1'], g2=data['e2']-data['psf_e2'],\n",
    "                           dec_units='radian', ra_units='radian')\n",
    "gg = treecorr.GGCorrelation(nbins=nbins, min_sep=min_sep, max_sep=max_sep,\n",
    "                            sep_units=sep_units,\n",
    "                            verbose=verbose)\n",
    "gg.process(catTree)\n",
    "r = np.exp(gg.meanlogr) * u.arcmin\n",
    "xip = gg.xip * u.Unit('')\n",
    "xip_err = np.sqrt(gg.varxi) * u.Unit('')"
   ]
  },
  {
   "cell_type": "code",
   "execution_count": 92,
   "metadata": {},
   "outputs": [
    {
     "data": {
      "text/plain": [
       "<matplotlib.legend.Legend at 0x2b33928f3908>"
      ]
     },
     "execution_count": 92,
     "metadata": {},
     "output_type": "execute_result"
    },
    {
     "data": {
      "image/png": "[encoded data removed]",
      "text/plain": [
       "<matplotlib.figure.Figure at 0x2b339281eba8>"
      ]
     },
     "metadata": {},
     "output_type": "display_data"
    }
   ],
   "source": [
    "plt.figure()\n",
    "plt.xscale('log')\n",
    "plt.yscale('log')\n",
    "#plt.plot(r.value,list(np.ones(len(xip[r.value<=5]))*.00002)+list(np.ones(len(xip[r.value>5]))*.00000001),label='TE1')\n",
    "plt.plot(r.value[r.value<=1],np.ones(len(xip[r.value<=1]))*2.0e-4,label='OSS SE3',color='purple')\n",
    "lim1 = r.value<5\n",
    "lim2 = r.value>1\n",
    "lim = lim1&lim2\n",
    "plt.plot(r.value[lim],np.ones(len(xip[lim]))*5.0e-7,label='OSS SE4',color='purple')\n",
    "plt.errorbar(r.value, xip, yerr=xip_err)\n",
    "plt.xlabel('Separation (arcmin)')\n",
    "plt.ylabel('Residual Ellipticity Correlation');\n",
    "plt.legend(loc='best')"
   ]
  },
  {
   "cell_type": "markdown",
   "metadata": {},
   "source": [
    "### Fraction of allowed PSF measurements of isolated bright stars to exceed the ellipticity residual correlation amplitude outlier limit.\n",
    "\n",
    "TODO"
   ]
  },
  {
   "cell_type": "code",
   "execution_count": 97,
   "metadata": {},
   "outputs": [
    {
     "name": "stdout",
     "output_type": "stream",
     "text": [
      "/global/u1/e/elp25\n"
     ]
    }
   ],
   "source": [
    "!pwd"
   ]
  },
  {
   "cell_type": "code",
   "execution_count": null,
   "metadata": {},
   "outputs": [],
   "source": []
  }
 ],
 "metadata": {
  "kernelspec": {
   "display_name": "desc-python",
   "language": "python",
   "name": "desc-python"
  },
  "language_info": {
   "codemirror_mode": {
    "name": "ipython",
    "version": 3
   },
   "file_extension": ".py",
   "mimetype": "text/x-python",
   "name": "python",
   "nbconvert_exporter": "python",
   "pygments_lexer": "ipython3",
   "version": "3.6.2"
  }
 },
 "nbformat": 4,
 "nbformat_minor": 2
}
