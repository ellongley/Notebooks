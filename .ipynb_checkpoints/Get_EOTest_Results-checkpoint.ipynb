{
 "cells": [
  {
   "cell_type": "markdown",
   "metadata": {},
   "source": [
    "# Get EOTest Results\n",
    "\n",
    "Accessing and plotting eotest results.\n",
    "\n",
    "Installation: \n",
    "\n",
    "git clone https://github.com/lsst-camera-dh/datacat-utilities.git \n",
    "cd datacat-utilities \n",
    "git checkout python3 \n",
    "\n",
    "git clone https://github.com/lsst-camera-dh/eTraveler-clientAPI.git\n",
    "\n",
    "\n",
    "edit $HOME/notebooks/.user_setups with:\n",
    "\n",
    "export PYTHONPATH=$PYTHONPATH:/path/to/eTraveler-clientAPI/python\n",
    "\n",
    "export PYTHONPATH=$PYTHONPATH:/path/to/datacat-utilities\n",
    "\n",
    "\n",
    "Restart your kernel. "
   ]
  },
  {
   "cell_type": "code",
   "execution_count": 97,
   "metadata": {},
   "outputs": [
    {
     "name": "stdout",
     "output_type": "stream",
     "text": [
      "/home/elp25/bootcamp-work/examples\n"
     ]
    }
   ],
   "source": [
    "!pwd"
   ]
  },
  {
   "cell_type": "code",
   "execution_count": 5,
   "metadata": {},
   "outputs": [],
   "source": [
    "from get_EO_analysis_results import get_EO_analysis_results\n",
    "from exploreFocalPlane import exploreFocalPlane\n",
    "from exploreRaft import exploreRaft\n",
    "from eTraveler.clientAPI.connection import Connection"
   ]
  },
  {
   "cell_type": "code",
   "execution_count": 11,
   "metadata": {},
   "outputs": [],
   "source": [
    "import matplotlib\n",
    "import numpy as np\n",
    "import matplotlib.pyplot as plt\n",
    "%matplotlib inline  "
   ]
  },
  {
   "cell_type": "markdown",
   "metadata": {},
   "source": [
    "# Examples\n",
    "\n",
    "All test results options: \n",
    "[('Gain', 'gain'), ('Gain Error', 'gain_error'), ('PSF', 'psf_sigma'),\n",
    "                     (\"Read Noise\", 'read_noise'), ('System Noise', 'system_noise'),\n",
    "                     ('Total Noise', 'total_noise'), ('Bright Pixels', 'bright_pixels'),\n",
    "                     ('Bright Columns', 'bright_columns'), ('Dark Pixels', 'dark_pixels'),\n",
    "                     ('Dark Columns', 'dark_columns'), (\"Traps\", 'num_traps'),\n",
    "                     ('CTI Low Serial', 'cti_low_serial'), ('CTI High Serial', 'cti_high_serial'),\n",
    "                     ('CTI Low Parallel', 'cti_low_parallel'), ('CTI High Parallel', 'cti_high_parallel'),\n",
    "                     ('Dark Current 95CL', 'dark_current_95CL'),\n",
    "                     ('PTC gain', 'ptc_gain'), ('Pixel mean', 'pixel_mean'), ('Full Well', 'full_well'),\n",
    "                     ('Nonlinearity', 'max_frac_dev')]"
   ]
  },
  {
   "cell_type": "code",
   "execution_count": 92,
   "metadata": {},
   "outputs": [],
   "source": [
    "g = get_EO_analysis_results(db='Dev')   # initialize (all Prod by default\"\n",
    "raft_list, data = g.get_tests(site_type=\"I&T-Raft\", test_type=\"bright_columns\", run ='5943D')  # get the data for I&T-Raft\n",
    "res = g.get_results(test_type='bright_columns', data=data, device=raft_list[0])  # get the data for a raft"
   ]
  },
  {
   "cell_type": "markdown",
   "metadata": {},
   "source": [
    "Now Compare to DM Results"
   ]
  },
  {
   "cell_type": "code",
   "execution_count": 78,
   "metadata": {},
   "outputs": [],
   "source": [
    "fe55_dm = np.load('/home/elp25/bootcamp-work/examples/fe55_gains.npy')"
   ]
  },
  {
   "cell_type": "code",
   "execution_count": 79,
   "metadata": {},
   "outputs": [
    {
     "data": {
      "text/plain": [
       "'ITL-3800C-083-Dev'"
      ]
     },
     "execution_count": 79,
     "metadata": {},
     "output_type": "execute_result"
    }
   ],
   "source": [
    "ccd_names = [key for key in res.keys()]\n",
    "ccd_names[0]"
   ]
  },
  {
   "cell_type": "code",
   "execution_count": 89,
   "metadata": {},
   "outputs": [
    {
     "data": {
      "text/plain": [
       "<matplotlib.legend.Legend at 0x7f6b7935ac18>"
      ]
     },
     "execution_count": 89,
     "metadata": {},
     "output_type": "execute_result"
    },
    {
     "data": {
      "image/png": "[encoded data removed]",
      "text/plain": [
       "<Figure size 432x288 with 1 Axes>"
      ]
     },
     "metadata": {
      "needs_background": "light"
     },
     "output_type": "display_data"
    }
   ],
   "source": [
    "plt.scatter([i for i in range(1,17)],res[ccd_names[8]],color='black',label='Fe55 Gain Eotest',marker='^')\n",
    "#plt.scatter([i for i in range(1,17)],res_ptc[ccd_name],color='purple',label='PTC Gain Eotest',marker='^')\n",
    "plt.scatter([i for i in range(1,17)],fe55_dm,color='black', label='Fe55 DM')\n",
    "plt.ylabel('Gain')\n",
    "plt.xlabel('Amp')\n",
    "plt.title('Gain Values for '+ccd_name)\n",
    "plt.legend()"
   ]
  },
  {
   "cell_type": "code",
   "execution_count": null,
   "metadata": {},
   "outputs": [],
   "source": []
  }
 ],
 "metadata": {
  "kernelspec": {
   "display_name": "LSST",
   "language": "python",
   "name": "lsst"
  },
  "language_info": {
   "codemirror_mode": {
    "name": "ipython",
    "version": 3
   },
   "file_extension": ".py",
   "mimetype": "text/x-python",
   "name": "python",
   "nbconvert_exporter": "python",
   "pygments_lexer": "ipython3",
   "version": "3.6.6"
  }
 },
 "nbformat": 4,
 "nbformat_minor": 2
}
