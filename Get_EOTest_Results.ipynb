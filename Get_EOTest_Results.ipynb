{
 "cells": [
  {
   "cell_type": "markdown",
   "metadata": {},
   "source": [
    "# Get EOTest Results\n",
    "\n",
    "Accessing and plotting eotest results.\n",
    "\n",
    "Installation: \n",
    "\n",
    "git clone https://github.com/lsst-camera-dh/datacat-utilities.git \n",
    "cd datacat-utilities \n",
    "git checkout python3 \n",
    "\n",
    "git clone https://github.com/lsst-camera-dh/eTraveler-clientAPI.git\n",
    "\n",
    "\n",
    "edit $HOME/notebooks/.user_setups with:\n",
    "\n",
    "export PYTHONPATH=$PYTHONPATH:/path/to/eTraveler-clientAPI/python\n",
    "\n",
    "export PYTHONPATH=$PYTHONPATH:/path/to/datacat-utilities/python\n",
    "\n",
    "\n",
    "Restart your kernel. "
   ]
  },
  {
   "cell_type": "code",
   "execution_count": 217,
   "metadata": {},
   "outputs": [
    {
     "name": "stdout",
     "output_type": "stream",
     "text": [
      "/home/elp25/Notebooks\n"
     ]
    }
   ],
   "source": [
    "!pwd"
   ]
  },
  {
   "cell_type": "code",
   "execution_count": 218,
   "metadata": {},
   "outputs": [],
   "source": [
    "from get_EO_analysis_results import get_EO_analysis_results\n",
    "from get_EO_analysis_files import get_EO_analysis_files\n",
    "from exploreFocalPlane import exploreFocalPlane\n",
    "from exploreRaft import exploreRaft\n",
    "from eTraveler.clientAPI.connection import Connection"
   ]
  },
  {
   "cell_type": "code",
   "execution_count": 219,
   "metadata": {},
   "outputs": [],
   "source": [
    "import matplotlib\n",
    "import numpy as np\n",
    "import matplotlib.pyplot as plt\n",
    "%matplotlib inline  "
   ]
  },
  {
   "cell_type": "markdown",
   "metadata": {},
   "source": [
    "# Examples - Get Test Quantities\n",
    "\n",
    "All test results options: \n",
    "[('Gain', 'gain'), ('Gain Error', 'gain_error'), ('PSF', 'psf_sigma'),\n",
    "                     (\"Read Noise\", 'read_noise'), ('System Noise', 'system_noise'),\n",
    "                     ('Total Noise', 'total_noise'), ('Bright Pixels', 'bright_pixels'),\n",
    "                     ('Bright Columns', 'bright_columns'), ('Dark Pixels', 'dark_pixels'),\n",
    "                     ('Dark Columns', 'dark_columns'), (\"Traps\", 'num_traps'),\n",
    "                     ('CTI Low Serial', 'cti_low_serial'), ('CTI High Serial', 'cti_high_serial'),\n",
    "                     ('CTI Low Parallel', 'cti_low_parallel'), ('CTI High Parallel', 'cti_high_parallel'),\n",
    "                     ('Dark Current 95CL', 'dark_current_95CL'),\n",
    "                     ('PTC gain', 'ptc_gain'), ('Pixel mean', 'pixel_mean'), ('Full Well', 'full_well'),\n",
    "                     ('Nonlinearity', 'max_frac_dev')]"
   ]
  },
  {
   "cell_type": "markdown",
   "metadata": {},
   "source": [
    "## Get EO Analysis Results"
   ]
  },
  {
   "cell_type": "markdown",
   "metadata": {},
   "source": [
    "### Example: Bright Columns per CCD\n",
    "\n",
    "For a given run and given test, find the results."
   ]
  },
  {
   "cell_type": "code",
   "execution_count": 222,
   "metadata": {},
   "outputs": [],
   "source": [
    "# Get EO analysis results access results from the eTraveler database\n",
    "g = get_EO_analysis_results(db='Dev')\n",
    "raft_list, data = g.get_tests(site_type=\"I&T-Raft\", test_type=\"bright_columns\", run ='5943D')  # get the data for I&T-Raft\n",
    "res = g.get_results(test_type='bright_columns', data=data, device=raft_list[0])  # get the data for a raft"
   ]
  },
  {
   "cell_type": "code",
   "execution_count": 223,
   "metadata": {},
   "outputs": [
    {
     "data": {
      "text/plain": [
       "'LCA-11021_RTM-011-Dev'"
      ]
     },
     "execution_count": 223,
     "metadata": {},
     "output_type": "execute_result"
    }
   ],
   "source": [
    "raft_list"
   ]
  },
  {
   "cell_type": "code",
   "execution_count": 224,
   "metadata": {},
   "outputs": [
    {
     "data": {
      "text/plain": [
       "odict_keys(['ITL-3800C-083-Dev', 'ITL-3800C-172-Dev', 'ITL-3800C-142-Dev', 'ITL-3800C-173-Dev', 'ITL-3800C-136-Dev', 'ITL-3800C-227-Dev', 'ITL-3800C-226-Dev', 'ITL-3800C-230-Dev', 'ITL-3800C-235-Dev'])"
      ]
     },
     "execution_count": 224,
     "metadata": {},
     "output_type": "execute_result"
    }
   ],
   "source": [
    "res.keys()"
   ]
  },
  {
   "cell_type": "code",
   "execution_count": 225,
   "metadata": {},
   "outputs": [],
   "source": [
    "ccd_name = 'ITL-3800C-083-Dev'"
   ]
  },
  {
   "cell_type": "code",
   "execution_count": 226,
   "metadata": {},
   "outputs": [
    {
     "data": {
      "text/plain": [
       "Text(0.5,0,'Number of Bright Columns')"
      ]
     },
     "execution_count": 226,
     "metadata": {},
     "output_type": "execute_result"
    },
    {
     "data": {
      "image/png": "[encoded data removed]",
      "text/plain": [
       "<Figure size 432x288 with 1 Axes>"
      ]
     },
     "metadata": {
      "needs_background": "light"
     },
     "output_type": "display_data"
    }
   ],
   "source": [
    "plt.hist(res[ccd_name],bins=50)\n",
    "plt.title('Bright Columns for ' + ccd_name)\n",
    "plt.ylabel('Number of Amps')\n",
    "plt.xlabel('Number of Bright Columns')"
   ]
  },
  {
   "cell_type": "markdown",
   "metadata": {},
   "source": [
    "### Example: Bright Columns per Raft\n",
    "\n",
    "For a given run and given test, find the results."
   ]
  },
  {
   "cell_type": "code",
   "execution_count": 227,
   "metadata": {},
   "outputs": [],
   "source": [
    "vals = []\n",
    "for key, value in res.items():\n",
    "      vals.append(value)"
   ]
  },
  {
   "cell_type": "code",
   "execution_count": 228,
   "metadata": {},
   "outputs": [
    {
     "name": "stdout",
     "output_type": "stream",
     "text": [
      "144\n"
     ]
    }
   ],
   "source": [
    "# 16 amps * 9 CCD's\n",
    "print(len(np.array(vals).flatten()))"
   ]
  },
  {
   "cell_type": "code",
   "execution_count": 229,
   "metadata": {},
   "outputs": [
    {
     "data": {
      "text/plain": [
       "Text(0.5,1,'Number of Bright Columns in Raft LCA-11021_RTM-011-Dev')"
      ]
     },
     "execution_count": 229,
     "metadata": {},
     "output_type": "execute_result"
    },
    {
     "data": {
      "image/png": "[encoded data removed]",
      "text/plain": [
       "<Figure size 432x288 with 1 Axes>"
      ]
     },
     "metadata": {
      "needs_background": "light"
     },
     "output_type": "display_data"
    }
   ],
   "source": [
    "plt.hist(np.array(vals).flatten(),bins=50)\n",
    "plt.xlabel('Number of Amps')\n",
    "plt.ylabel('Number of Bright Columns')\n",
    "plt.title('Number of Bright Columns in Raft ' + raft_list)"
   ]
  },
  {
   "cell_type": "markdown",
   "metadata": {},
   "source": [
    "### Example: Get All Test Results\n",
    "\n",
    "For a given run, get all results."
   ]
  },
  {
   "cell_type": "code",
   "execution_count": 230,
   "metadata": {},
   "outputs": [],
   "source": [
    "g = get_EO_analysis_results(db='Dev')\n",
    "raft_list, data = g.get_tests(site_type=\"I&T-Raft\", run ='5943D')"
   ]
  },
  {
   "cell_type": "code",
   "execution_count": 231,
   "metadata": {},
   "outputs": [],
   "source": [
    "res = g.get_all_results(data=data, device=raft_list)"
   ]
  },
  {
   "cell_type": "code",
   "execution_count": 232,
   "metadata": {},
   "outputs": [
    {
     "data": {
      "text/plain": [
       "odict_keys(['gain', 'gain_error', 'psf_sigma', 'cti_low_serial', 'cti_high_serial', 'cti_low_parallel', 'cti_high_parallel', 'cti_low_serial_error', 'cti_high_serial_error', 'cti_low_parallel_error', 'cti_high_parallel_error', 'read_noise', 'system_noise', 'total_noise', 'bright_pixels', 'bright_columns', 'dark_pixels', 'dark_columns', 'num_traps', 'dark_current_95CL', 'ptc_gain', 'ptc_gain_error', 'QE', 'full_well', 'max_frac_dev'])"
      ]
     },
     "execution_count": 232,
     "metadata": {},
     "output_type": "execute_result"
    }
   ],
   "source": [
    "# Now you have the results of all tests\n",
    "res.keys()"
   ]
  },
  {
   "cell_type": "code",
   "execution_count": 233,
   "metadata": {},
   "outputs": [
    {
     "data": {
      "text/plain": [
       "Text(0.5,1,'Gain Values for ITL-3800C-083-Dev')"
      ]
     },
     "execution_count": 233,
     "metadata": {},
     "output_type": "execute_result"
    },
    {
     "data": {
      "image/png": "[encoded data removed]",
      "text/plain": [
       "<Figure size 432x288 with 1 Axes>"
      ]
     },
     "metadata": {
      "needs_background": "light"
     },
     "output_type": "display_data"
    }
   ],
   "source": [
    "plt.errorbar(range(1,17),res['gain'][ccd_name],yerr=res['gain_error'][ccd_name],color='black',label='Fe55 Gain', fmt='o')\n",
    "plt.errorbar(range(1,17),res['ptc_gain'][ccd_name],yerr=res['ptc_gain_error'][ccd_name],color='green',label='PTC Gain', fmt='o')\n",
    "plt.legend(loc='best')\n",
    "plt.ylabel('Gain')\n",
    "plt.xlabel('Amp')\n",
    "plt.title('Gain Values for ' + ccd_name)"
   ]
  },
  {
   "cell_type": "markdown",
   "metadata": {},
   "source": [
    "## Get EO Analysis Files\n",
    "\n",
    "For a given run and test quantity and image type, get the file paths at SLAC to a specific file."
   ]
  },
  {
   "cell_type": "code",
   "execution_count": 234,
   "metadata": {},
   "outputs": [],
   "source": [
    "g = get_EO_analysis_files(db='Prod',server='True')\n",
    "files_list = g.get_files(run='6350', testName='flat_pair_raft_acq', FType=\"fits\",imgtype='BIAS')"
   ]
  },
  {
   "cell_type": "code",
   "execution_count": 235,
   "metadata": {},
   "outputs": [
    {
     "data": {
      "text/plain": [
       "'/nfs/farm/g/lsst/u1/mirror/BNL-prod/prod/LCA-11021_RTM/LCA-11021_RTM-010/6350/flat_pair_raft_acq/v0/37772/S00/E2V-CCD250-266_flat_bias_000_6350_20171221104619.fits'"
      ]
     },
     "execution_count": 235,
     "metadata": {},
     "output_type": "execute_result"
    }
   ],
   "source": [
    "files_list['S00'][0]"
   ]
  },
  {
   "cell_type": "markdown",
   "metadata": {},
   "source": [
    "## Explore Raft"
   ]
  },
  {
   "cell_type": "code",
   "execution_count": 87,
   "metadata": {},
   "outputs": [],
   "source": [
    "from  eTraveler.clientAPI.connection import Connection"
   ]
  },
  {
   "cell_type": "code",
   "execution_count": 88,
   "metadata": {},
   "outputs": [],
   "source": [
    "# Initiate with either prod or dev\n",
    "eR_prod = exploreRaft(db='Prod')\n",
    "eR_dev = exploreRaft(db='Dev')"
   ]
  },
  {
   "cell_type": "code",
   "execution_count": 236,
   "metadata": {},
   "outputs": [
    {
     "data": {
      "text/plain": [
       "[('ITL-3800C-145', 'S00', 'LCA-13574-007'),\n",
       " ('ITL-3800C-022', 'S01', 'LCA-13574-007'),\n",
       " ('ITL-3800C-041', 'S02', 'LCA-13574-007'),\n",
       " ('ITL-3800C-100', 'S10', 'LCA-13574-009'),\n",
       " ('ITL-3800C-017', 'S11', 'LCA-13574-009'),\n",
       " ('ITL-3800C-018', 'S12', 'LCA-13574-009'),\n",
       " ('ITL-3800C-102', 'S20', 'LCA-13574-010'),\n",
       " ('ITL-3800C-146', 'S21', 'LCA-13574-010'),\n",
       " ('ITL-3800C-103', 'S22', 'LCA-13574-010')]"
      ]
     },
     "execution_count": 236,
     "metadata": {},
     "output_type": "execute_result"
    }
   ],
   "source": [
    "eR_prod.raftContents(run=8831,raftName='LCA-11021_RTM-003_ETU2',when='2017-10-11T15:03:54.0')"
   ]
  },
  {
   "cell_type": "code",
   "execution_count": null,
   "metadata": {},
   "outputs": [],
   "source": []
  }
 ],
 "metadata": {
  "kernelspec": {
   "display_name": "LSST",
   "language": "python",
   "name": "lsst"
  },
  "language_info": {
   "codemirror_mode": {
    "name": "ipython",
    "version": 3
   },
   "file_extension": ".py",
   "mimetype": "text/x-python",
   "name": "python",
   "nbconvert_exporter": "python",
   "pygments_lexer": "ipython3",
   "version": "3.6.6"
  }
 },
 "nbformat": 4,
 "nbformat_minor": 2
}
